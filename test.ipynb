{
 "cells": [
  {
   "cell_type": "code",
   "execution_count": null,
   "id": "48c7714a",
   "metadata": {
    "_cell_guid": "fbe536c5-d581-4d50-b88b-a206f3e4a44d",
    "_uuid": "c65a45e2-7ddd-45ae-a184-a56a5fdeb467",
    "collapsed": false,
    "jupyter": {
     "outputs_hidden": false
    },
    "papermill": {
     "duration": 0.002173,
     "end_time": "2024-11-14T01:32:52.623886",
     "exception": false,
     "start_time": "2024-11-14T01:32:52.621713",
     "status": "completed"
    },
    "tags": []
   },
   "outputs": [],
   "source": []
  }
 ],
 "metadata": {
  "kaggle": {
   "accelerator": "none",
   "dataSources": [
    {
     "datasetId": 6081426,
     "sourceId": 9900143,
     "sourceType": "datasetVersion"
    }
   ],
   "isGpuEnabled": false,
   "isInternetEnabled": true,
   "language": "python",
   "sourceType": "notebook"
  },
  "kernelspec": {
   "display_name": "Python 3",
   "language": "python",
   "name": "python3"
  },
  "language_info": {
   "codemirror_mode": {
    "name": "ipython",
    "version": 3
   },
   "file_extension": ".py",
   "mimetype": "text/x-python",
   "name": "python",
   "nbconvert_exporter": "python",
   "pygments_lexer": "ipython3",
   "version": "3.10.14"
  },
  "papermill": {
   "default_parameters": {},
   "duration": 6.535044,
   "end_time": "2024-11-14T01:32:55.937247",
   "environment_variables": {},
   "exception": null,
   "input_path": "__notebook__.ipynb",
   "output_path": "__notebook__.ipynb",
   "parameters": {},
   "start_time": "2024-11-14T01:32:49.402203",
   "version": "2.6.0"
  }
 },
 "nbformat": 4,
 "nbformat_minor": 5
}
